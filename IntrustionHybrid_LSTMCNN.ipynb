{
  "cells": [
    {
      "cell_type": "markdown",
      "metadata": {
        "id": "view-in-github",
        "colab_type": "text"
      },
      "source": [
        "<a href=\"https://colab.research.google.com/github/sivasakthi16/Network-Intrusion-Detection/blob/main/IntrustionHybrid_LSTMCNN.ipynb\" target=\"_parent\"><img src=\"https://colab.research.google.com/assets/colab-badge.svg\" alt=\"Open In Colab\"/></a>"
      ]
    },
    {
      "cell_type": "markdown",
      "id": "8cf5a75a",
      "metadata": {
        "id": "8cf5a75a"
      },
      "source": [
        "### Import Essential Modules"
      ]
    },
    {
      "cell_type": "code",
      "execution_count": null,
      "id": "857a36ed",
      "metadata": {
        "id": "857a36ed"
      },
      "outputs": [],
      "source": [
        "import pandas as pd\n",
        "import numpy as np\n",
        "import seaborn as sns\n",
        "import matplotlib.pyplot as plt\n",
        "import missingno as msno\n",
        "from sklearn import preprocessing\n",
        "from sklearn.preprocessing import MinMaxScaler\n",
        "from sklearn.model_selection import train_test_split\n",
        "import tensorflow as tf\n",
        "from tensorflow import keras\n",
        "from tensorflow.keras import layers\n",
        "from tensorflow.keras.layers import Dense\n",
        "from sklearn import metrics\n",
        "from sklearn.model_selection import cross_val_score\n",
        "from sklearn.metrics import classification_report,confusion_matrix\n",
        "%matplotlib inline"
      ]
    },
    {
      "cell_type": "code",
      "source": [
        "from google.colab import drive\n",
        "drive.mount('/content/drive')"
      ],
      "metadata": {
        "colab": {
          "base_uri": "https://localhost:8080/"
        },
        "id": "uKvHH8kZWgSr",
        "outputId": "725af0e8-ab7a-4707-c8d9-0990fe72a35c"
      },
      "id": "uKvHH8kZWgSr",
      "execution_count": 3,
      "outputs": [
        {
          "output_type": "stream",
          "name": "stdout",
          "text": [
            "Mounted at /content/drive\n"
          ]
        }
      ]
    },
    {
      "cell_type": "markdown",
      "id": "dba5cf76",
      "metadata": {
        "id": "dba5cf76"
      },
      "source": [
        "### About the Dataset"
      ]
    },
    {
      "cell_type": "code",
      "execution_count": null,
      "id": "59616903",
      "metadata": {
        "id": "59616903"
      },
      "outputs": [],
      "source": [
        "df = pd.read_csv('/content/drive/MyDrive/dataset_sdn.csv')\n",
        "df.head(10)"
      ]
    },
    {
      "cell_type": "markdown",
      "id": "1ad2fc7b",
      "metadata": {
        "id": "1ad2fc7b"
      },
      "source": [
        "### Data Preprocessing"
      ]
    },
    {
      "cell_type": "markdown",
      "id": "a5ded3e3",
      "metadata": {
        "id": "a5ded3e3"
      },
      "source": [
        "#### Dataset Dimensions"
      ]
    },
    {
      "cell_type": "code",
      "execution_count": null,
      "id": "fd04f6fc",
      "metadata": {
        "id": "fd04f6fc"
      },
      "outputs": [],
      "source": [
        "print(\"This Dataset has {} rows and {} columns\".format(df.shape[0], df.shape[1]))"
      ]
    },
    {
      "cell_type": "markdown",
      "id": "803bea86",
      "metadata": {
        "id": "803bea86"
      },
      "source": [
        "#### Concise summary of dataset"
      ]
    },
    {
      "cell_type": "code",
      "execution_count": null,
      "id": "d131b455",
      "metadata": {
        "id": "d131b455"
      },
      "outputs": [],
      "source": [
        "df.info()"
      ]
    },
    {
      "cell_type": "markdown",
      "id": "34549914",
      "metadata": {
        "id": "34549914"
      },
      "source": [
        "#### Descriptive statistics of dataset"
      ]
    },
    {
      "cell_type": "code",
      "execution_count": null,
      "id": "3c444761",
      "metadata": {
        "id": "3c444761"
      },
      "outputs": [],
      "source": [
        "df.describe()"
      ]
    },
    {
      "cell_type": "markdown",
      "id": "09a59c41",
      "metadata": {
        "id": "09a59c41"
      },
      "source": [
        "#### heatmap of missing values"
      ]
    },
    {
      "cell_type": "code",
      "execution_count": null,
      "id": "aa0a248e",
      "metadata": {
        "id": "aa0a248e"
      },
      "outputs": [],
      "source": [
        "msno.matrix(df)"
      ]
    },
    {
      "cell_type": "markdown",
      "id": "2a56dd87",
      "metadata": {
        "id": "2a56dd87"
      },
      "source": [
        "#### Count of null values in each feature"
      ]
    },
    {
      "cell_type": "code",
      "execution_count": null,
      "id": "4b169f16",
      "metadata": {
        "id": "4b169f16"
      },
      "outputs": [],
      "source": [
        "df.isnull().sum()"
      ]
    },
    {
      "cell_type": "code",
      "execution_count": null,
      "id": "0af67366",
      "metadata": {
        "id": "0af67366"
      },
      "outputs": [],
      "source": [
        "(df.isnull().sum()/df.isnull().count())*100"
      ]
    },
    {
      "cell_type": "markdown",
      "id": "fe62324e",
      "metadata": {
        "id": "fe62324e"
      },
      "source": [
        "#### Drop rows with null values"
      ]
    },
    {
      "cell_type": "code",
      "execution_count": null,
      "id": "37b3ff55",
      "metadata": {
        "id": "37b3ff55"
      },
      "outputs": [],
      "source": [
        "df.dropna(inplace=True)"
      ]
    },
    {
      "cell_type": "markdown",
      "id": "04529414",
      "metadata": {
        "id": "04529414"
      },
      "source": [
        "#### Info after handling Null Values"
      ]
    },
    {
      "cell_type": "code",
      "execution_count": null,
      "id": "4d4768b8",
      "metadata": {
        "id": "4d4768b8"
      },
      "outputs": [],
      "source": [
        "print(df.isnull().sum())\n",
        "print(\"This Dataframe has {} rows and {} columns after removing null values\".format(df.shape[0], df.shape[1]))"
      ]
    },
    {
      "cell_type": "markdown",
      "id": "27f22a5e",
      "metadata": {
        "id": "27f22a5e"
      },
      "source": [
        "#### Distribution of Target Class"
      ]
    },
    {
      "cell_type": "code",
      "execution_count": null,
      "id": "520822ef",
      "metadata": {
        "id": "520822ef"
      },
      "outputs": [],
      "source": [
        "malign = df[df['label'] == 1]\n",
        "benign = df[df['label'] == 0]\n",
        "\n",
        "print('Number of DDOS attacks that has occured :',round((len(malign)/df.shape[0])*100,2),'%')\n",
        "print('Number of DDOS attacks that has not occured :',round((len(benign)/df.shape[0])*100,2),'%')"
      ]
    },
    {
      "cell_type": "markdown",
      "id": "3a568cbe",
      "metadata": {
        "id": "3a568cbe"
      },
      "source": [
        "#### Barplot of Target Class"
      ]
    },
    {
      "cell_type": "code",
      "execution_count": null,
      "id": "dac12a8b",
      "metadata": {
        "id": "dac12a8b"
      },
      "outputs": [],
      "source": [
        "# Let's plot the Label class against the Frequency\n",
        "labels = ['benign','malign']\n",
        "classes = pd.value_counts(df['label'], sort = True) / df['label'].count() *100\n",
        "classes.plot(kind = 'bar')\n",
        "plt.title(\"Label class distribution\")\n",
        "plt.xticks(range(2), labels)\n",
        "plt.xlabel(\"Label\")\n",
        "plt.ylabel(\"Frequency %\")"
      ]
    },
    {
      "cell_type": "markdown",
      "id": "10108622",
      "metadata": {
        "id": "10108622"
      },
      "source": [
        "#### Pairplot of select features"
      ]
    },
    {
      "cell_type": "code",
      "execution_count": null,
      "id": "24821816",
      "metadata": {
        "id": "24821816"
      },
      "outputs": [],
      "source": [
        "sns.pairplot(df,hue=\"label\",vars=['pktcount','flows','bytecount'])"
      ]
    },
    {
      "cell_type": "markdown",
      "id": "dba10564",
      "metadata": {
        "id": "dba10564"
      },
      "source": [
        "#### Columns in the dataset"
      ]
    },
    {
      "cell_type": "code",
      "execution_count": null,
      "id": "f25a8cec",
      "metadata": {
        "id": "f25a8cec"
      },
      "outputs": [],
      "source": [
        "df.columns"
      ]
    },
    {
      "cell_type": "markdown",
      "id": "01587f1e",
      "metadata": {
        "id": "01587f1e"
      },
      "source": [
        "#### Unique values in each column"
      ]
    },
    {
      "cell_type": "code",
      "execution_count": null,
      "id": "94f63d7a",
      "metadata": {
        "id": "94f63d7a"
      },
      "outputs": [],
      "source": [
        "print(df.apply(lambda col: col.unique()))"
      ]
    },
    {
      "cell_type": "markdown",
      "id": "549e0412",
      "metadata": {
        "id": "549e0412"
      },
      "source": [
        "#### Numerical Features"
      ]
    },
    {
      "cell_type": "code",
      "execution_count": null,
      "id": "791c661a",
      "metadata": {
        "id": "791c661a"
      },
      "outputs": [],
      "source": [
        "numerical_features = [feature for feature in df.columns if df[feature].dtypes != 'O']\n",
        "print(\"The number of numerical features is\",len(numerical_features),\"and they are : \\n\",numerical_features)"
      ]
    },
    {
      "cell_type": "markdown",
      "id": "6be4c029",
      "metadata": {
        "id": "6be4c029"
      },
      "source": [
        "#### Categorical Features"
      ]
    },
    {
      "cell_type": "code",
      "execution_count": null,
      "id": "c35beed7",
      "metadata": {
        "id": "c35beed7"
      },
      "outputs": [],
      "source": [
        "categorical_features = [feature for feature in df.columns if df[feature].dtypes == 'O']\n",
        "print(\"The number of categorical features is\",len(categorical_features),\"and they are : \\n\",categorical_features)"
      ]
    },
    {
      "cell_type": "markdown",
      "id": "3ec03f4e",
      "metadata": {
        "id": "3ec03f4e"
      },
      "source": [
        "#### Number of Unique values in the numerical features"
      ]
    },
    {
      "cell_type": "code",
      "execution_count": null,
      "id": "5b11f185",
      "metadata": {
        "id": "5b11f185"
      },
      "outputs": [],
      "source": [
        "# number of unique values in each numerical variable\n",
        "df[numerical_features].nunique(axis=0)"
      ]
    },
    {
      "cell_type": "markdown",
      "id": "7678de8d",
      "metadata": {
        "id": "7678de8d"
      },
      "source": [
        "#### Discrete numerical features"
      ]
    },
    {
      "cell_type": "code",
      "execution_count": null,
      "id": "2d5c3b9f",
      "metadata": {
        "id": "2d5c3b9f"
      },
      "outputs": [],
      "source": [
        "#discrete numerical features\n",
        "discrete_feature = [feature for feature in numerical_features if df[feature].nunique()<=15 and feature != 'label']\n",
        "print(\"The number of discrete features is\",len(discrete_feature),\"and they are : \\n\",discrete_feature)"
      ]
    },
    {
      "cell_type": "code",
      "execution_count": null,
      "id": "c5f83be3",
      "metadata": {
        "id": "c5f83be3"
      },
      "outputs": [],
      "source": [
        "df[discrete_feature].head(10)"
      ]
    },
    {
      "cell_type": "markdown",
      "id": "18830683",
      "metadata": {
        "id": "18830683"
      },
      "source": [
        "#### Continuous features"
      ]
    },
    {
      "cell_type": "code",
      "execution_count": null,
      "id": "5e333ca4",
      "metadata": {
        "id": "5e333ca4"
      },
      "outputs": [],
      "source": [
        "continuous_feature=[feature for feature in numerical_features if feature not in discrete_feature + ['label']]\n",
        "print(\"The number of continuous_feature features is\",len(continuous_feature),\"and they are : \\n\",continuous_feature)"
      ]
    },
    {
      "cell_type": "markdown",
      "id": "26860d61",
      "metadata": {
        "id": "26860d61"
      },
      "source": [
        "### Exploratory Data Analysis"
      ]
    },
    {
      "cell_type": "markdown",
      "id": "0d401c70",
      "metadata": {
        "id": "0d401c70"
      },
      "source": [
        "#### Plotting function definition"
      ]
    },
    {
      "cell_type": "code",
      "execution_count": null,
      "id": "478f8e0c",
      "metadata": {
        "id": "478f8e0c"
      },
      "outputs": [],
      "source": [
        "def countplot_distribution(col):\n",
        "    sns.set_theme(style=\"darkgrid\")\n",
        "    sns.countplot(y=col, data=df).set(title = 'Distribution of ' + col)\n",
        "\n",
        "def histplot_distribution(col):\n",
        "    sns.set_theme(style=\"darkgrid\")\n",
        "    sns.histplot(data=df,x=col, kde=True,color=\"red\").set(title = 'Distribution of ' + col)"
      ]
    },
    {
      "cell_type": "markdown",
      "id": "f12eaa5a",
      "metadata": {
        "id": "f12eaa5a"
      },
      "source": [
        "#### Visualize the distribution of Categorical features"
      ]
    },
    {
      "cell_type": "code",
      "execution_count": null,
      "id": "0aa81eef",
      "metadata": {
        "id": "0aa81eef"
      },
      "outputs": [],
      "source": [
        "## Lets analyse the categorical values by creating histograms to understand the distribution\n",
        "f = plt.figure(figsize=(8,20))\n",
        "for i in range(len(categorical_features)):\n",
        "    f.add_subplot(len(categorical_features), 1, i+1)\n",
        "    countplot_distribution(categorical_features[i])\n",
        "plt.show()"
      ]
    },
    {
      "cell_type": "code",
      "execution_count": null,
      "id": "c6393cdf",
      "metadata": {
        "id": "c6393cdf"
      },
      "outputs": [],
      "source": [
        "for i in range(len(categorical_features)):\n",
        "    g = sns.catplot(data=df,x=\"tot_dur\",y=categorical_features[i],kind=\"boxen\").set(title = categorical_features[i])\n",
        "    g.fig.set_figheight(7)\n",
        "    g.fig.set_figwidth(15)"
      ]
    },
    {
      "cell_type": "markdown",
      "id": "3212d5b7",
      "metadata": {
        "id": "3212d5b7"
      },
      "source": [
        "#### Visualize the distribution of continuous features"
      ]
    },
    {
      "cell_type": "code",
      "execution_count": null,
      "id": "82c9b67f",
      "metadata": {
        "scrolled": false,
        "id": "82c9b67f"
      },
      "outputs": [],
      "source": [
        "## Lets analyse the continuous values by creating histograms to understand the distribution\n",
        "f = plt.figure(figsize=(20,90))\n",
        "for i in range(len(continuous_feature)):\n",
        "    f.add_subplot(len(continuous_feature), 2, i+1)\n",
        "    histplot_distribution(continuous_feature[i])\n",
        "plt.show()"
      ]
    },
    {
      "cell_type": "markdown",
      "id": "c380341b",
      "metadata": {
        "id": "c380341b"
      },
      "source": [
        "#### Visualize the distribution of continuous features wrt packet count, protocol and type of attack"
      ]
    },
    {
      "cell_type": "code",
      "execution_count": null,
      "id": "c472f202",
      "metadata": {
        "id": "c472f202"
      },
      "outputs": [],
      "source": [
        "## Relplot of log(variable)\n",
        "import warnings\n",
        "warnings.filterwarnings(\"ignore\")\n",
        "for feature in continuous_feature:\n",
        "    data=df.copy()\n",
        "    if 0 in data[feature].unique():\n",
        "        pass\n",
        "    else:\n",
        "        data[feature]=np.log(data[feature])\n",
        "        data['pktcount']=np.log(data['pktcount'])\n",
        "        plt.figure(figsize=(20,20))\n",
        "        sns.relplot(data=data, x=data[feature],y=data['pktcount'],hue=\"Protocol\",style=\"Protocol\",\n",
        "                    col=\"label\",kind=\"scatter\").set(title=\"logarithmic Relplot of feature : \" + feature)"
      ]
    },
    {
      "cell_type": "markdown",
      "id": "c8f63709",
      "metadata": {
        "id": "c8f63709"
      },
      "source": [
        "#### Visualize the distribution of numerical discrete features"
      ]
    },
    {
      "cell_type": "code",
      "execution_count": null,
      "id": "81c58e97",
      "metadata": {
        "id": "81c58e97"
      },
      "outputs": [],
      "source": [
        "for feature in discrete_feature:\n",
        "    plt.figure(figsize=(8,4))\n",
        "    cat_num = df[feature].value_counts()\n",
        "    sns.barplot(x=cat_num.index, y = cat_num).set(title = \"Graph for \"+feature, ylabel=\"Frequency\")\n",
        "    plt.show()"
      ]
    },
    {
      "cell_type": "code",
      "execution_count": null,
      "id": "9b7ccba2",
      "metadata": {
        "id": "9b7ccba2"
      },
      "outputs": [],
      "source": [
        "def get_percentage_malign_protocols():\n",
        "    arr = [x for x, y in zip(df['Protocol'], df['label']) if y == 1]\n",
        "    perc_arr = []\n",
        "    for i in ['UDP','TCP','ICMP']:\n",
        "        perc_arr.append(arr.count(i)/len(arr) *100)\n",
        "    return perc_arr"
      ]
    },
    {
      "cell_type": "markdown",
      "id": "4aae2ef7",
      "metadata": {
        "id": "4aae2ef7"
      },
      "source": [
        "#### Distribution of protocols for malign attacks"
      ]
    },
    {
      "cell_type": "code",
      "execution_count": null,
      "id": "ccf33001",
      "metadata": {
        "id": "ccf33001"
      },
      "outputs": [],
      "source": [
        "fig1, ax1 = plt.subplots(figsize=[7,7])\n",
        "ax1.pie(get_percentage_malign_protocols(), explode=(0.1, 0, 0), autopct='%1.1f%%',\n",
        "        shadow=True, startangle=90)\n",
        "ax1.axis('equal')\n",
        "ax1.legend(['UDP', 'TCP', 'ICMP'],loc=\"best\")\n",
        "plt.title('Distribution of protocols for malign attacks',fontsize = 14)\n",
        "plt.show()"
      ]
    },
    {
      "cell_type": "markdown",
      "id": "a281e754",
      "metadata": {
        "id": "a281e754"
      },
      "source": [
        "#### Checking for outliers in Packet count feature"
      ]
    },
    {
      "cell_type": "code",
      "execution_count": null,
      "id": "c5b1e27b",
      "metadata": {
        "id": "c5b1e27b"
      },
      "outputs": [],
      "source": [
        "fig, ax = plt.subplots(figsize=[10, 10])\n",
        "sns.boxplot(\n",
        "    data=df,\n",
        "    x='pktcount',\n",
        "    y='Protocol'\n",
        ")\n",
        "ax.set_title('Boxplot, Packet count for different protocols')"
      ]
    },
    {
      "cell_type": "markdown",
      "id": "c5edf9ff",
      "metadata": {
        "id": "c5edf9ff"
      },
      "source": [
        "#### Heat map of correlation of features"
      ]
    },
    {
      "cell_type": "code",
      "execution_count": null,
      "id": "e2984db4",
      "metadata": {
        "id": "e2984db4"
      },
      "outputs": [],
      "source": [
        "print(\"Features which need to be encoded are : \\n\" ,categorical_features)"
      ]
    },
    {
      "cell_type": "markdown",
      "id": "d4ddf1f0",
      "metadata": {
        "id": "d4ddf1f0"
      },
      "source": [
        "### Encoding categorical features\n",
        "\n",
        "\n",
        "\n"
      ]
    },
    {
      "cell_type": "code",
      "execution_count": null,
      "id": "5dc4d263",
      "metadata": {
        "id": "5dc4d263"
      },
      "outputs": [],
      "source": [
        "df = pd.get_dummies(df, columns=categorical_features,drop_first=True)\n",
        "print(\"This Dataframe has {} rows and {} columns after encoding\".format(df.shape[0], df.shape[1]))"
      ]
    },
    {
      "cell_type": "code",
      "execution_count": null,
      "id": "9f46cf48",
      "metadata": {
        "id": "9f46cf48"
      },
      "outputs": [],
      "source": [
        "#dataframe after encoding\n",
        "df.head(10)"
      ]
    },
    {
      "cell_type": "code",
      "execution_count": null,
      "id": "abba9764",
      "metadata": {
        "id": "abba9764"
      },
      "outputs": [],
      "source": [
        "df.dtypes"
      ]
    },
    {
      "cell_type": "markdown",
      "id": "4469f799",
      "metadata": {
        "id": "4469f799"
      },
      "source": [
        "### Split into Independent and dependent variables"
      ]
    },
    {
      "cell_type": "code",
      "execution_count": null,
      "id": "68f8bd86",
      "metadata": {
        "id": "68f8bd86"
      },
      "outputs": [],
      "source": [
        "#separating input and output attributes\n",
        "x = df.drop(['label'], axis=1)\n",
        "y = df['label']"
      ]
    },
    {
      "cell_type": "markdown",
      "id": "739311b8",
      "metadata": {
        "id": "739311b8"
      },
      "source": [
        "### Normalizing features"
      ]
    },
    {
      "cell_type": "code",
      "execution_count": null,
      "id": "331d62d9",
      "metadata": {
        "id": "331d62d9"
      },
      "outputs": [],
      "source": [
        "ms = MinMaxScaler()\n",
        "x = ms.fit_transform(x)"
      ]
    },
    {
      "cell_type": "markdown",
      "id": "a50fcc7e",
      "metadata": {
        "id": "a50fcc7e"
      },
      "source": [
        "### Train-Test-Split [75-25]"
      ]
    },
    {
      "cell_type": "code",
      "execution_count": null,
      "id": "1920d424",
      "metadata": {
        "id": "1920d424"
      },
      "outputs": [],
      "source": [
        "X_train, X_test, y_train, y_test = train_test_split(x, y,test_size=0.3)\n",
        "print(X_train.shape, X_test.shape)"
      ]
    },
    {
      "cell_type": "markdown",
      "id": "08f0159c",
      "metadata": {
        "id": "08f0159c"
      },
      "source": [
        "#### Deep Neural Network-LSTM"
      ]
    },
    {
      "cell_type": "code",
      "execution_count": null,
      "id": "90050313",
      "metadata": {
        "id": "90050313"
      },
      "outputs": [],
      "source": [
        "Model_accuracy = []"
      ]
    },
    {
      "cell_type": "markdown",
      "id": "e86665d0",
      "metadata": {
        "id": "e86665d0"
      },
      "source": [
        "## Defining the Deep Neural Network-long short term memory"
      ]
    },
    {
      "cell_type": "code",
      "source": [
        "from tensorflow.keras.models import Sequential\n",
        "from tensorflow.keras.layers import Dense, LSTM, Reshape\n",
        "from tensorflow.keras.optimizers import Adam\n",
        "\n",
        "model = Sequential()\n",
        "\n",
        "# Reshaping input (None, 56) to (None, 1, 56) to add a time dimension\n",
        "model.add(Reshape((1, 56), input_shape=(56,)))\n",
        "\n",
        "# Adding an LSTM layer as the first layer\n",
        "model.add(LSTM(64, activation='tanh', return_sequences=False, name=\"LSTM_Layer\"))\n",
        "\n",
        "# Adding Dense layers\n",
        "model.add(Dense(28, activation=\"relu\", name=\"Hidden_Layer_1\"))\n",
        "model.add(Dense(10, activation=\"relu\", name=\"Hidden_Layer_2\"))\n",
        "model.add(Dense(1, activation=\"sigmoid\", name=\"Output_Layer\"))\n",
        "\n",
        "# Compile the model with Adam optimizer and binary crossentropy loss\n",
        "opt = Adam(learning_rate=0.01)\n",
        "model.compile(optimizer=opt, loss=\"binary_crossentropy\", metrics=['accuracy'])\n",
        "\n",
        "# Model summary\n",
        "model.summary()\n"
      ],
      "metadata": {
        "id": "QLlHMJEa-Qen"
      },
      "id": "QLlHMJEa-Qen",
      "execution_count": null,
      "outputs": []
    },
    {
      "cell_type": "markdown",
      "id": "b72205d6",
      "metadata": {
        "id": "b72205d6"
      },
      "source": [
        "## Model fitting"
      ]
    },
    {
      "cell_type": "code",
      "execution_count": null,
      "id": "5aeadd75",
      "metadata": {
        "id": "5aeadd75"
      },
      "outputs": [],
      "source": [
        "# fit model\n",
        "history_org = model.fit(\n",
        "    X_train,\n",
        "    y_train,\n",
        "    batch_size=32,\n",
        "    epochs=20, verbose=2,\n",
        "    callbacks=None,\n",
        "    validation_data=(X_test,y_test),\n",
        "    shuffle=True,\n",
        "    class_weight=None,\n",
        "    sample_weight=None,\n",
        "    initial_epoch=0)"
      ]
    },
    {
      "cell_type": "markdown",
      "id": "63146b0b",
      "metadata": {
        "id": "63146b0b"
      },
      "source": [
        "## Plotting Loss v/s Epochs"
      ]
    },
    {
      "cell_type": "code",
      "execution_count": null,
      "id": "1a2ee146",
      "metadata": {
        "id": "1a2ee146"
      },
      "outputs": [],
      "source": [
        "loss = history_org.history['loss']\n",
        "val_loss = history_org.history['val_loss']\n",
        "epochs = range(1, len(loss) + 1)\n",
        "plt.plot(epochs, loss, 'g', label = 'Training Loss')\n",
        "plt.plot(epochs, val_loss, 'r', label = 'Validation Loss')\n",
        "plt.title('Loss v/s No. of epochs')\n",
        "plt.xlabel('Number of Epochs')\n",
        "plt.ylabel('Loss')\n",
        "plt.legend()\n",
        "plt.show()"
      ]
    },
    {
      "cell_type": "markdown",
      "id": "b647a0c3",
      "metadata": {
        "id": "b647a0c3"
      },
      "source": [
        "## Plotting Accuracy v/s Epochs"
      ]
    },
    {
      "cell_type": "code",
      "execution_count": null,
      "id": "af26795c",
      "metadata": {
        "id": "af26795c"
      },
      "outputs": [],
      "source": [
        "loss = history_org.history['accuracy']\n",
        "val_loss = history_org.history['val_accuracy']\n",
        "plt.plot(epochs, loss, 'g', label = 'Training accuracy')\n",
        "plt.plot(epochs, val_loss, 'r', label = 'Validation accuracy')\n",
        "plt.title('Accuracy Scores v/s Number of Epochs')\n",
        "plt.xlabel('No. of Epochs')\n",
        "plt.ylabel('Accuracy Score')\n",
        "plt.legend()\n",
        "plt.show()"
      ]
    },
    {
      "cell_type": "markdown",
      "id": "567d841a",
      "metadata": {
        "id": "567d841a"
      },
      "source": [
        "## Model Evaluation"
      ]
    },
    {
      "cell_type": "code",
      "execution_count": null,
      "id": "51077496",
      "metadata": {
        "id": "51077496"
      },
      "outputs": [],
      "source": [
        "loss, accuracy = model.evaluate(X_test, y_test)\n",
        "print('Accuracy of Long short term memory : %.2f' % (accuracy*100))\n",
        "Model_accuracy.append(accuracy*100)"
      ]
    },
    {
      "cell_type": "code",
      "source": [
        "!pip install keras-tuner"
      ],
      "metadata": {
        "id": "A52Z2UgOP-wh",
        "collapsed": true
      },
      "id": "A52Z2UgOP-wh",
      "execution_count": null,
      "outputs": []
    },
    {
      "cell_type": "code",
      "source": [
        "import keras_tuner as kt\n",
        "\n",
        "# Define a function to tune the LSTM architecture\n",
        "def build_tuned_lstm_model(hp):\n",
        "    model = Sequential()\n",
        "    units = hp.Int('units', min_value=32, max_value=128, step=32)\n",
        "    model.add(LSTM(units, input_shape=(10, 56), activation='tanh', return_sequences=False))\n",
        "    model.add(Dense(32, activation='relu'))\n",
        "    model.compile(optimizer='adam', loss='binary_crossentropy', metrics=['accuracy'])\n",
        "    return model\n",
        "\n",
        "# Create a tuner to search for the best LSTM model hyperparameters\n",
        "tuner = kt.RandomSearch(\n",
        "    build_tuned_lstm_model,\n",
        "    objective='val_accuracy',\n",
        "    max_trials=5,\n",
        "    executions_per_trial=3,\n",
        "    directory='lstm_tuning',\n",
        "    project_name='lstm_knn_hybrid'\n",
        ")\n"
      ],
      "metadata": {
        "id": "It79DO7yQt33"
      },
      "id": "It79DO7yQt33",
      "execution_count": null,
      "outputs": []
    },
    {
      "cell_type": "code",
      "execution_count": null,
      "id": "558e4439",
      "metadata": {
        "id": "558e4439"
      },
      "outputs": [],
      "source": [
        "def model_builder(hp):\n",
        "    model = keras.Sequential()\n",
        "\n",
        "    model.add(Dense(28 , input_shape=(56,) , activation=\"relu\" , name=\"Hidden_Layer_1\"))\n",
        "    model.add(Dense(10 , activation=\"relu\" , name=\"Hidden_Layer_2\"))\n",
        "    model.add(Dense(1 , activation=\"sigmoid\" , name=\"Output_Layer\"))\n",
        "    opt = keras.optimizers.Adam(learning_rate=0.01)\n",
        "\n",
        "    model.compile(optimizer=keras.optimizers.Adam(hp.Choice('learning_rate',[1e-2, 1e-3, 1e-4])), loss='binary_crossentropy', metrics=['accuracy'])\n",
        "\n",
        "    return history, model.layers, model"
      ]
    },
    {
      "cell_type": "code",
      "execution_count": null,
      "id": "02ade8e7",
      "metadata": {
        "id": "02ade8e7"
      },
      "outputs": [],
      "source": [
        "classes = model.predict(X_test)\n",
        "print(classes)"
      ]
    },
    {
      "cell_type": "code",
      "execution_count": null,
      "id": "31e7965b",
      "metadata": {
        "id": "31e7965b"
      },
      "outputs": [],
      "source": [
        "y_pred = []\n",
        "for i in classes:\n",
        "    if i > 0.5:\n",
        "        y_pred.append(1)\n",
        "    else:\n",
        "        y_pred.append(0)"
      ]
    },
    {
      "cell_type": "code",
      "execution_count": null,
      "id": "71434810",
      "metadata": {
        "id": "71434810"
      },
      "outputs": [],
      "source": [
        "y_pred[:20]"
      ]
    },
    {
      "cell_type": "code",
      "execution_count": null,
      "id": "874a8a0e",
      "metadata": {
        "id": "874a8a0e"
      },
      "outputs": [],
      "source": [
        "y_test[:20]"
      ]
    },
    {
      "cell_type": "markdown",
      "id": "617c1e3d",
      "metadata": {
        "id": "617c1e3d"
      },
      "source": [
        "## Classification Report"
      ]
    },
    {
      "cell_type": "code",
      "execution_count": null,
      "id": "28d012ca",
      "metadata": {
        "id": "28d012ca"
      },
      "outputs": [],
      "source": [
        "print(classification_report(y_test, y_pred, target_names = labels))"
      ]
    },
    {
      "cell_type": "markdown",
      "id": "71c92fcb",
      "metadata": {
        "id": "71c92fcb"
      },
      "source": [
        "## Plotting Confusion Matrix"
      ]
    },
    {
      "cell_type": "code",
      "execution_count": null,
      "id": "8b59f221",
      "metadata": {
        "id": "8b59f221"
      },
      "outputs": [],
      "source": [
        "from itertools import product\n",
        "def plot_confusion_matrix(cm, classes, normalize=True, title='Confusion matrix', cmap=plt.cm.Blues):\n",
        "    plt.figure(figsize=(10,10))\n",
        "    plt.grid(False)\n",
        "    plt.imshow(cm, interpolation='nearest', cmap=cmap)\n",
        "    plt.title(title)\n",
        "    plt.colorbar()\n",
        "    tick_marks = np.arange(len(classes))\n",
        "    plt.xticks(tick_marks, classes, rotation=45)\n",
        "    plt.yticks(tick_marks, classes)\n",
        "    cm1 = cm\n",
        "    if normalize:\n",
        "        cm = cm.astype('float') / cm.sum(axis=1)[:, np.newaxis]\n",
        "        cm = np.around(cm, decimals=2)\n",
        "        cm[np.isnan(cm)]\n",
        "        thresh = cm.max() / 2.\n",
        "    for i, j in product(range(cm.shape[0]), range(cm.shape[1])):\n",
        "        plt.text(j, i, str(cm1[i, j])+ \" (\"+ str(cm[i, j]*100)+\"%)\",\n",
        "                 horizontalalignment=\"center\",\n",
        "                 color=\"white\" if cm[i, j] > thresh else \"black\")\n",
        "    plt.tight_layout()\n",
        "    plt.ylabel('True label')\n",
        "    plt.xlabel('Predicted label')"
      ]
    },
    {
      "cell_type": "code",
      "execution_count": null,
      "id": "82b2dff4",
      "metadata": {
        "id": "82b2dff4"
      },
      "outputs": [],
      "source": [
        "confusion_mtx = confusion_matrix(y_test, y_pred)\n",
        "plot_confusion_matrix(confusion_mtx, classes = labels)"
      ]
    },
    {
      "cell_type": "markdown",
      "source": [
        "##LSTM-CNN HYBRID MODEL\n",
        "\n",
        ">\n",
        "\n"
      ],
      "metadata": {
        "id": "j8cqjdgoyors"
      },
      "id": "j8cqjdgoyors"
    },
    {
      "cell_type": "code",
      "source": [
        "import numpy as np\n",
        "from tensorflow.keras.models import Sequential\n",
        "from tensorflow.keras.layers import Conv1D, LSTM, Dense, Dropout, BatchNormalization\n",
        "from tensorflow.keras.regularizers import l2\n",
        "from tensorflow.keras.optimizers import Adam\n",
        "from tensorflow.keras.callbacks import EarlyStopping, ReduceLROnPlateau\n",
        "from sklearn.metrics import accuracy_score, confusion_matrix, classification_report\n",
        "import numpy as np\n",
        "import tensorflow as tf\n",
        "\n",
        "# Set random seed for reproducibility\n",
        "np.random.seed(42)\n",
        "tf.random.set_seed(42)\n",
        "\n",
        "# Now proceed with model definition and training\n",
        "\n",
        "\n",
        "# Define the CNN + LSTM model with balanced dropout and L2 regularization\n",
        "def create_cnn_lstm_model(input_shape):\n",
        "    model = Sequential()\n",
        "\n",
        "    # CNN layers for feature extraction\n",
        "    model.add(Conv1D(filters=64, kernel_size=1, activation='relu', input_shape=input_shape))\n",
        "    model.add(Dropout(0.3))  # Moderate dropout\n",
        "    model.add(BatchNormalization())\n",
        "\n",
        "    # LSTM layers for temporal pattern recognition\n",
        "    model.add(LSTM(128, return_sequences=True))\n",
        "    model.add(Dropout(0.3))  # Moderate dropout\n",
        "    model.add(LSTM(64, return_sequences=False))\n",
        "    model.add(BatchNormalization())\n",
        "\n",
        "    # Dense layers with L2 regularization\n",
        "    model.add(Dense(64, activation='relu', kernel_regularizer=l2(0.001)))  # Add L2 regularization\n",
        "    model.add(Dropout(0.3))\n",
        "    model.add(Dense(1, activation='sigmoid', kernel_regularizer=l2(0.001)))  # Binary classification\n",
        "\n",
        "    return model\n",
        "\n",
        "\n",
        "\n",
        "# Define input shape with timesteps=1 and n_features=56\n",
        "timesteps = 1\n",
        "n_features = 56\n",
        "input_shape = (timesteps, n_features)\n",
        "\n",
        "# Reshape data to add a time dimension (timesteps=1)\n",
        "X_train_reshaped = X_train.reshape((X_train.shape[0], timesteps, n_features))\n",
        "X_test_reshaped = X_test.reshape((X_test.shape[0], timesteps, n_features))\n",
        "\n",
        "\n",
        "# Compile and train the CNN + LSTM hybrid model\n",
        "cnn_lstm_model = create_cnn_lstm_model(input_shape)\n",
        "cnn_lstm_model.compile(optimizer=Adam(learning_rate=0.0005), loss='binary_crossentropy', metrics=['accuracy'])\n",
        "\n",
        "\n",
        "# Print model summary to verify CNN + LSTM layers\n",
        "print(\"CNN + LSTM Model Architecture:\")\n",
        "cnn_lstm_model.summary()\n",
        "\n",
        "\n",
        "# Early stopping and learning rate reduction\n",
        "early_stopping = EarlyStopping(monitor='val_loss', patience=10, restore_best_weights=True)\n",
        "reduce_lr = ReduceLROnPlateau(monitor='val_loss', factor=0.5, patience=5, min_lr=1e-5)\n",
        "\n",
        "# Train model with adjusted batch size and callbacks\n",
        "history_org = cnn_lstm_model.fit(\n",
        "    X_train_reshaped, y_train,\n",
        "    epochs=100,\n",
        "    batch_size=64,  # Increased batch size back to 64\n",
        "    validation_split=0.2,\n",
        "    verbose=1,\n",
        "    callbacks=[early_stopping, reduce_lr]\n",
        ")\n",
        "\n",
        "# Step 7: Evaluate the CNN + LSTM hybrid model\n",
        "y_test_pred = cnn_lstm_model.predict(X_test_reshaped)\n",
        "y_test_pred = (y_test_pred > 0.5).astype(int)  # Convert probabilities to binary output\n",
        "\n",
        "# Evaluate metrics\n",
        "cnn_lstm_accuracy = accuracy_score(y_test, y_test_pred)\n",
        "print(f\"Accuracy of CNN + LSTM Hybrid Model: {cnn_lstm_accuracy * 100:.2f}%\")\n",
        "print(\"Confusion Matrix:\")\n",
        "print(confusion_matrix(y_test, y_test_pred))\n",
        "print(\"Classification Report:\")\n",
        "print(classification_report(y_test, y_test_pred))"
      ],
      "metadata": {
        "id": "C5vLSSKK1IM1"
      },
      "id": "C5vLSSKK1IM1",
      "execution_count": null,
      "outputs": []
    },
    {
      "cell_type": "markdown",
      "source": [
        "##Plotting Loss vs Epoch & Accuracy vs Epoch"
      ],
      "metadata": {
        "id": "6MR4Oj4divDe"
      },
      "id": "6MR4Oj4divDe"
    },
    {
      "cell_type": "code",
      "source": [
        "# Extract loss and accuracy values from history\n",
        "loss = history_org.history['loss']\n",
        "val_loss = history_org.history['val_loss']\n",
        "accuracy = history_org.history['accuracy']\n",
        "val_accuracy = history_org.history['val_accuracy']\n",
        "epochs = range(1, len(loss) + 1)\n",
        "\n",
        "# Plot Loss vs Epoch\n",
        "plt.figure(figsize=(10, 5))\n",
        "plt.plot(epochs, loss, 'g', label='Training Loss')\n",
        "plt.plot(epochs, val_loss, 'r', label='Validation Loss')\n",
        "plt.title('Loss vs Number of Epochs')\n",
        "plt.xlabel('Number of Epochs')\n",
        "plt.ylabel('Loss')\n",
        "plt.legend()\n",
        "plt.grid(True)\n",
        "plt.show()\n",
        "\n",
        "# Plot Accuracy vs Epoch\n",
        "plt.figure(figsize=(10, 5))\n",
        "plt.plot(epochs, accuracy, 'g', label='Training Accuracy')\n",
        "plt.plot(epochs, val_accuracy, 'r', label='Validation Accuracy')\n",
        "plt.title('Accuracy vs Number of Epochs')\n",
        "plt.xlabel('Number of Epochs')\n",
        "plt.ylabel('Accuracy')\n",
        "plt.legend()\n",
        "plt.grid(True)\n",
        "plt.show()"
      ],
      "metadata": {
        "id": "6O2daA2cipor"
      },
      "id": "6O2daA2cipor",
      "execution_count": null,
      "outputs": []
    },
    {
      "cell_type": "code",
      "source": [
        "import numpy as np\n",
        "from sklearn.metrics import confusion_matrix\n",
        "import matplotlib.pyplot as plt\n",
        "from itertools import product\n",
        "\n",
        "# Define the plot_confusion_matrix function (as you've provided it)\n",
        "def plot_confusion_matrix(cm, classes, normalize=True, title='Confusion matrix', cmap=plt.cm.Blues):\n",
        "    plt.figure(figsize=(10, 10))\n",
        "    plt.grid(False)\n",
        "    plt.imshow(cm, interpolation='nearest', cmap=cmap)\n",
        "    plt.title(title)\n",
        "    plt.colorbar()\n",
        "    tick_marks = np.arange(len(classes))\n",
        "    plt.xticks(tick_marks, classes, rotation=45)\n",
        "    plt.yticks(tick_marks, classes)\n",
        "    cm1 = cm\n",
        "    if normalize:\n",
        "        cm = cm.astype('float') / cm.sum(axis=1)[:, np.newaxis]\n",
        "        cm = np.around(cm, decimals=2)\n",
        "        cm[np.isnan(cm)] = 0  # Handle NaNs\n",
        "        thresh = cm.max() / 2.\n",
        "    for i, j in product(range(cm.shape[0]), range(cm.shape[1])):\n",
        "        plt.text(j, i, f\"{cm1[i, j]} ({cm[i, j] * 100:.2f}%)\",\n",
        "                 horizontalalignment=\"center\",\n",
        "                 color=\"white\" if cm[i, j] > thresh else \"black\")\n",
        "    plt.tight_layout()\n",
        "    plt.ylabel('True label')\n",
        "    plt.xlabel('Predicted label')\n",
        "\n",
        "# Make predictions using your model\n",
        "y_test_pred = cnn_lstm_model.predict(X_test_reshaped)\n",
        "y_test_pred = (y_test_pred > 0.5).astype(int)  # Convert probabilities to binary output\n",
        "\n",
        "# Generate the confusion matrix\n",
        "cm = confusion_matrix(y_test, y_test_pred)\n",
        "classes = [\"Class 0\", \"Class 1\"]  # Adjust this to match your class labels\n",
        "\n",
        "# Plot the confusion matrix\n",
        "plot_confusion_matrix(cm, classes=classes, normalize=True, title=\"Confusion Matrix for LSTM+CNN Model\")\n",
        "plt.show()\n"
      ],
      "metadata": {
        "id": "SqDYL0Htd8_F"
      },
      "id": "SqDYL0Htd8_F",
      "execution_count": null,
      "outputs": []
    },
    {
      "cell_type": "code",
      "source": [
        "# Delete all elements in Model_accuracy after the 0th index\n",
        "del Model_accuracy[1:]\n"
      ],
      "metadata": {
        "id": "cHyuswgEe1EL"
      },
      "id": "cHyuswgEe1EL",
      "execution_count": null,
      "outputs": []
    },
    {
      "cell_type": "code",
      "source": [
        "\n",
        "Model_accuracy.append(cnn_lstm_accuracy*100)\n",
        "print(\"Model_accuracy\",Model_accuracy)"
      ],
      "metadata": {
        "id": "jh5LzlVBcdws"
      },
      "execution_count": null,
      "outputs": [],
      "id": "jh5LzlVBcdws"
    },
    {
      "cell_type": "code",
      "execution_count": null,
      "metadata": {
        "id": "3dc6ebda"
      },
      "outputs": [],
      "source": [
        "Model_names = [\"DNN-LSTM\", \"LSTM-CNN(HYBRID)\"]"
      ],
      "id": "3dc6ebda"
    },
    {
      "cell_type": "code",
      "source": [
        "print(f\"Length of Model_names: {len(Model_names)}\")\n",
        "print(f\"Length of Model_accuracy: {len(Model_accuracy)}\")\n"
      ],
      "metadata": {
        "id": "WGPAmdMxfoMK"
      },
      "id": "WGPAmdMxfoMK",
      "execution_count": null,
      "outputs": []
    },
    {
      "cell_type": "code",
      "execution_count": null,
      "metadata": {
        "id": "dba59ed6"
      },
      "outputs": [],
      "source": [
        "df_clf = pd.DataFrame()\n",
        "df_clf['name'] = Model_names\n",
        "df_clf['Accuracy'] = Model_accuracy\n",
        "df_clf = df_clf.sort_values(by=['Accuracy'], ascending=False)\n",
        "df_clf.head(10)"
      ],
      "id": "dba59ed6"
    },
    {
      "cell_type": "code",
      "source": [
        "import matplotlib.pyplot as plt\n",
        "\n",
        "# Define model names and accuracies\n",
        "Model_names = [\"DNN-LSTM\", \"LSTM-CNN(HYBRID)\"]\n",
        "# Assuming Model_accuracy has two elements with the accuracies\n",
        "Model_accuracy = Model_accuracy[:2]  # Ensure it only contains two entries\n",
        "\n",
        "# Plotting the bar chart\n",
        "plt.figure(figsize=(8, 6))\n",
        "plt.bar(Model_names, Model_accuracy, color=['blue', 'orange'])\n",
        "plt.xlabel(\"Model\")\n",
        "plt.ylabel(\"Accuracy (%)\")\n",
        "plt.title(\"Model Accuracy Comparison\")\n",
        "plt.ylim(0, 100)  # Set y-axis limit to 100 for easier comparison\n",
        "for i, v in enumerate(Model_accuracy):\n",
        "    plt.text(i, v + 1, f\"{v:.2f}%\", ha='center', fontweight='bold')  # Label each bar with its accuracy\n",
        "\n",
        "plt.show()\n"
      ],
      "metadata": {
        "id": "ycHhtvSQg2iH"
      },
      "id": "ycHhtvSQg2iH",
      "execution_count": null,
      "outputs": []
    },
    {
      "cell_type": "code",
      "source": [
        "# Find the index of the model with the highest accuracy\n",
        "best_index = Model_accuracy.index(max(Model_accuracy))\n",
        "\n",
        "# Get the name and accuracy of the best model\n",
        "best_model_name = Model_names[best_index]\n",
        "best_accuracy = Model_accuracy[best_index]\n",
        "\n",
        "# Print the result\n",
        "print(f\"The model with the highest accuracy is {best_model_name} with an accuracy of {best_accuracy:.2f}%\")\n"
      ],
      "metadata": {
        "id": "DnlFHkBmhS-x"
      },
      "id": "DnlFHkBmhS-x",
      "execution_count": null,
      "outputs": []
    }
  ],
  "metadata": {
    "kernelspec": {
      "display_name": "Python 3",
      "name": "python3"
    },
    "language_info": {
      "codemirror_mode": {
        "name": "ipython",
        "version": 3
      },
      "file_extension": ".py",
      "mimetype": "text/x-python",
      "name": "python",
      "nbconvert_exporter": "python",
      "pygments_lexer": "ipython3",
      "version": "3.8.8"
    },
    "colab": {
      "provenance": [],
      "gpuType": "T4",
      "include_colab_link": true
    }
  },
  "nbformat": 4,
  "nbformat_minor": 5
}